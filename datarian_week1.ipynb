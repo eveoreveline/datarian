{
 "cells": [
  {
   "cell_type": "markdown",
   "metadata": {},
   "source": [
    "### CASE 응용\n",
    "* customer_stats 테이블의 last_order_date 컬럼을 이용하여 \n",
    "* 각 고객의 Recency 점수를 계산해봅시다.\n",
    "* 점수가 1점인 사용자, 0점인 사용자는 각각 몇 명인가요?"
   ]
  },
  {
   "cell_type": "code",
   "execution_count": null,
   "metadata": {
    "vscode": {
     "languageId": "sql"
    }
   },
   "outputs": [],
   "source": [
    "SELECT CASE WHEN last_order_date >= '2020-12-01' THEN 1 ELSE 0 END AS Recency\n",
    "      , COUNT(customer_id) AS Customers\n",
    "FROM customer_stats\n",
    "GROUP BY Recency"
   ]
  },
  {
   "cell_type": "markdown",
   "metadata": {},
   "source": [
    "### IF문 공식\n"
   ]
  },
  {
   "cell_type": "code",
   "execution_count": null,
   "metadata": {
    "vscode": {
     "languageId": "sql"
    }
   },
   "outputs": [],
   "source": [
    "IF (조건, 조건 True일 때 반환할 값, False일 때 반환할 값)"
   ]
  },
  {
   "cell_type": "markdown",
   "metadata": {},
   "source": [
    "### IF 응용\n",
    "* customer_stats 테이블의 last_order_date, cnt_orders 컬럼을 이용하여 \n",
    "* 각 고객의 Recency, Frequency 점수를 계산해봅시다. "
   ]
  },
  {
   "cell_type": "code",
   "execution_count": null,
   "metadata": {
    "vscode": {
     "languageId": "sql"
    }
   },
   "outputs": [],
   "source": [
    "SELECT IF(last_order_date >= '2020-12-01', 1, 0) AS Recency\n",
    "     , IF(cnt_orders >= 3, 1, 0) AS Frequency\n",
    "     , COUNT(customer_id) AS Customers\n",
    "FROM customer_stats\n",
    "GROUP BY Recency, Frequency"
   ]
  },
  {
   "cell_type": "markdown",
   "metadata": {},
   "source": [
    "### pivot table\n",
    "* 행으로 나열되어 있던 데이터를 열 방향으로 변환하여 데이터를 한 눈에 보고자 활용"
   ]
  },
  {
   "cell_type": "markdown",
   "metadata": {},
   "source": [
    "#### Step 1. CASE\n",
    "* records 테이블에서 전체 order_id 중 카테고리값이 'Furniture'인 경우, order_id 값 출력"
   ]
  },
  {
   "cell_type": "code",
   "execution_count": null,
   "metadata": {
    "vscode": {
     "languageId": "sql"
    }
   },
   "outputs": [],
   "source": [
    "SELECT DISTINCT order_id\n",
    "     , CASE WHEN category = 'Furniture' THEN order_id END AS furniture_order_id\n",
    "FROM records"
   ]
  },
  {
   "cell_type": "markdown",
   "metadata": {},
   "source": [
    "#### Step 2. COUNT DISTINCT\n",
    "* records 테이블에서 전체 주문 수 및 카테고리 값이 'Furniture'인 경우 주문수 출력"
   ]
  },
  {
   "cell_type": "code",
   "execution_count": null,
   "metadata": {
    "vscode": {
     "languageId": "sql"
    }
   },
   "outputs": [],
   "source": [
    "SELECT COUNT(DISTINCT order_id) AS cnt_orders\n",
    "     , COUNT(DISTINCT CASE WHEN category = 'Furniture' THEN order_id END) AS cnt_furniture_orders\n",
    "FROM records"
   ]
  },
  {
   "cell_type": "markdown",
   "metadata": {},
   "source": [
    "#### Step 3. region 그룹 기준 추가\n",
    "* records 테이블에서 region 별 전체 주문수와, 카테고리 값이 'Furniture'인 주문수를 계산"
   ]
  },
  {
   "cell_type": "code",
   "execution_count": null,
   "metadata": {
    "vscode": {
     "languageId": "sql"
    }
   },
   "outputs": [],
   "source": [
    "SELECT region\n",
    "     , COUNT(DISTINCT order_id) AS cnt_orders\n",
    "     , COUNT(DISTINCT CASE WHEN category = 'Furniture' THEN order_id END) AS cnt_furniture_orders\n",
    "FROM records\n",
    "GROUP BY region"
   ]
  }
 ],
 "metadata": {
  "language_info": {
   "name": "python"
  },
  "orig_nbformat": 4
 },
 "nbformat": 4,
 "nbformat_minor": 2
}
